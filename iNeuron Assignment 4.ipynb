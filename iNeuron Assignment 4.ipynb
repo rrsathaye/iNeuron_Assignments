{
 "cells": [
  {
   "cell_type": "markdown",
   "metadata": {},
   "source": [
    "Question 1"
   ]
  },
  {
   "cell_type": "code",
   "execution_count": null,
   "metadata": {},
   "outputs": [],
   "source": [
    "class Areas:\n",
    "    def __init__(self):\n",
    "        self.side_a=int(input(\"Enter the length of side a: \"))\n",
    "        self.side_b=int(input(\"Enter the length of side b: \"))\n",
    "        self.side_c=int(input(\"Enter the length of side c: \"))\n",
    "\n",
    "\n",
    "class Area_Cal(Areas):\n",
    "    def __init__(self,*args):\n",
    "        super().__init__(*args)\n",
    "        \n",
    "    def tri_area(self):\n",
    "        t_area= (10*(10-self.side_a)*(10-self.side_b)*(10-self.side_c)) ** 0.5\n",
    "        #t_area= (S*(S-self.side_a)*(S-self.side_b)*(S-self.side_c)) ** 0.5\n",
    "        print(\"Area of the triangle is: \",t_area)\n",
    "    \n",
    "abc=Area_Cal()\n",
    "abc.tri_area()"
   ]
  },
  {
   "cell_type": "markdown",
   "metadata": {},
   "source": [
    "Question 1.2"
   ]
  },
  {
   "cell_type": "code",
   "execution_count": null,
   "metadata": {},
   "outputs": [],
   "source": [
    "def filter_long_words(a,n):\n",
    "    list2=[]\n",
    "    for i in range(len(a)):\n",
    "        k=len(a[i])\n",
    "        if k>n:\n",
    "            list2.append(a[i])\n",
    "    print(list2)\n",
    "    \n",
    "mylist=['Rahul','abc','a','xy']\n",
    "filter_long_words(mylist,0)"
   ]
  },
  {
   "cell_type": "markdown",
   "metadata": {},
   "source": [
    "Question 2.1"
   ]
  },
  {
   "cell_type": "code",
   "execution_count": null,
   "metadata": {},
   "outputs": [],
   "source": [
    "def list_element_length(a):\n",
    "    list2=[]\n",
    "    for i in range(len(a)):\n",
    "        list2.append(len(a[i]))\n",
    "    print(list2)\n",
    "    \n",
    "mylist1=['Rahul','abc','a','xy']\n",
    "list_element_length(mylist1)"
   ]
  },
  {
   "cell_type": "markdown",
   "metadata": {},
   "source": [
    "Question 2.2"
   ]
  },
  {
   "cell_type": "code",
   "execution_count": null,
   "metadata": {},
   "outputs": [],
   "source": [
    "def is_vowel(a):\n",
    "    if len(a)!=1:\n",
    "        print(\"Please input single character only!\")\n",
    "    else:\n",
    "        vowels=['A','E','I','O','U','a','e','i','o','u']\n",
    "        for v in range(len(vowels)):\n",
    "            if a == 'A'or a =='E'or a =='I'or a =='O'or a =='U'or a =='a'or a =='e'or a =='i'or a =='o'or a =='u':\n",
    "                return True\n",
    "            else:\n",
    "                return False\n",
    "            \n",
    "abc='l'\n",
    "\n",
    "is_vowel(abc)"
   ]
  }
 ],
 "metadata": {
  "kernelspec": {
   "display_name": "Python 3",
   "language": "python",
   "name": "python3"
  },
  "language_info": {
   "codemirror_mode": {
    "name": "ipython",
    "version": 3
   },
   "file_extension": ".py",
   "mimetype": "text/x-python",
   "name": "python",
   "nbconvert_exporter": "python",
   "pygments_lexer": "ipython3",
   "version": "3.7.4"
  }
 },
 "nbformat": 4,
 "nbformat_minor": 2
}
