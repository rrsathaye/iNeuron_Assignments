{
 "cells": [
  {
   "cell_type": "markdown",
   "metadata": {},
   "source": [
    "Question 1.1"
   ]
  },
  {
   "cell_type": "code",
   "execution_count": null,
   "metadata": {},
   "outputs": [],
   "source": [
    "#import functools as ft\n",
    "data=[*range(0,100,2)]\n",
    "#addition=lambda x,y:x+y\n",
    "#ft.reduce(addition,data)\n",
    "\n",
    "\n",
    "def myreduce(data):\n",
    "    addition1=0\n",
    "    for x in data:\n",
    "        addition1=addition1+x\n",
    "    return addition1\n",
    "    \n",
    "print(myreduce(data))"
   ]
  },
  {
   "cell_type": "markdown",
   "metadata": {},
   "source": [
    "Question 1.2"
   ]
  },
  {
   "cell_type": "code",
   "execution_count": null,
   "metadata": {},
   "outputs": [],
   "source": [
    "mylist=[*range(1,11)]\n",
    "#great=(lambda i:i%2==0)\n",
    "\n",
    "#list(filter(great, mylist))\n",
    "\n",
    "def myfilter(mylist):\n",
    "    mynewlist=[]\n",
    "    for x in mylist:\n",
    "        if x%2==0:\n",
    "            mynewlist.append(x)\n",
    "    print(mynewlist)\n",
    "    \n",
    "myfilter(mylist)"
   ]
  },
  {
   "cell_type": "markdown",
   "metadata": {},
   "source": [
    "Question 2"
   ]
  },
  {
   "cell_type": "code",
   "execution_count": null,
   "metadata": {},
   "outputs": [],
   "source": [
    "list1=[1,2,3,4]\n",
    "list2=['x','y','z']\n",
    "list3=[i*j for i in list2 for j in list1]\n",
    "list3"
   ]
  },
  {
   "cell_type": "code",
   "execution_count": null,
   "metadata": {},
   "outputs": [],
   "source": [
    "list1=[1,2,3,4]\n",
    "list2=['x','y','z']\n",
    "\n",
    "list3=[i*j for i in list1 for j in list2]\n",
    "list3"
   ]
  },
  {
   "cell_type": "code",
   "execution_count": null,
   "metadata": {},
   "outputs": [],
   "source": [
    "list1=[2,3,4,5]\n",
    "list2=[]\n",
    "list3=[]\n",
    "for i in list1:\n",
    "    while k<4:\n",
    "        list2.append(i)\n",
    "        k=k+1\n",
    "        i=i+1\n",
    "    k=0\n",
    "    list3.append(list2)\n",
    "    list2=[]\n",
    "list3"
   ]
  },
  {
   "cell_type": "code",
   "execution_count": null,
   "metadata": {},
   "outputs": [],
   "source": [
    "list1=[2,3,4]\n",
    "list2=[]\n",
    "list3=[]\n",
    "\n",
    "for i in list1:\n",
    "    while k<3:\n",
    "        list2.append(i)\n",
    "        k=k+1\n",
    "        i=i+1\n",
    "    k=0\n",
    "    for j in list2:\n",
    "        list3.append(j)\n",
    "    list2=[]\n",
    "list3\n",
    "    "
   ]
  },
  {
   "cell_type": "code",
   "execution_count": null,
   "metadata": {},
   "outputs": [],
   "source": [
    "list1=[1,2,3]\n",
    "list2=[1,2,3]\n",
    "list3=[(j,i) for i in list1 for j in list2]\n",
    "list3"
   ]
  },
  {
   "cell_type": "code",
   "execution_count": null,
   "metadata": {},
   "outputs": [],
   "source": []
  }
 ],
 "metadata": {
  "kernelspec": {
   "display_name": "Python 3",
   "language": "python",
   "name": "python3"
  },
  "language_info": {
   "codemirror_mode": {
    "name": "ipython",
    "version": 3
   },
   "file_extension": ".py",
   "mimetype": "text/x-python",
   "name": "python",
   "nbconvert_exporter": "python",
   "pygments_lexer": "ipython3",
   "version": "3.7.4"
  }
 },
 "nbformat": 4,
 "nbformat_minor": 2
}
